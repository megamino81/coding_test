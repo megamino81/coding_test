{
 "cells": [
  {
   "cell_type": "markdown",
   "metadata": {},
   "source": [
    "1937년 Collatz란 사람에 의해 제기된 이 추측은, 주어진 수가 1이 될 때까지 다음 작업을 반복하면, 모든 수를 1로 만들 수 있다는 추측입니다. 작업은 다음과 같습니다.\n",
    "\n",
    "1-1. 입력된 수가 짝수라면 2로 나눕니다. \n",
    "1-2. 입력된 수가 홀수라면 3을 곱하고 1을 더합니다. \n",
    "2. 결과로 나온 수에 같은 작업을 1이 될 때까지 반복합니다. \n",
    "예를 들어, 주어진 수가 6이라면 6 → 3 → 10 → 5 → 16 → 8 → 4 → 2 → 1 이 되어 총 8번 만에 1이 됩니다. 위 작업을 몇 번이나 반복해야 하는지 반환하는 함수, solution을 완성해 주세요. 단, 주어진 수가 1인 경우에는 0을, 작업을 500번 반복할 때까지 1이 되지 않는다면 –1을 반환해 주세요.\n",
    "\n",
    "제한 사항\n",
    "입력된 수, num은 1 이상 8,000,000 미만인 정수입니다.\n",
    "입출력 예\n",
    "n\tresult\n",
    "6\t8\n",
    "16\t4\n",
    "626331\t-1\n",
    "입출력 예 설명\n",
    "입출력 예 #1\n",
    "문제의 설명과 같습니다.\n",
    "\n",
    "입출력 예 #2\n",
    "16 → 8 → 4 → 2 → 1 이 되어 총 4번 만에 1이 됩니다.\n",
    "\n",
    "입출력 예 #3\n",
    "626331은 500번을 시도해도 1이 되지 못하므로 -1을 리턴해야 합니다.\n",
    "\n"
   ]
  },
  {
   "cell_type": "code",
   "execution_count": 6,
   "metadata": {},
   "outputs": [
    {
     "name": "stdout",
     "output_type": "stream",
     "text": [
      "-1\n"
     ]
    }
   ],
   "source": [
    "def collatz(count, num):\n",
    "    if num == 1: return count\n",
    "\n",
    "    count += 1\n",
    "    if count == 500:\n",
    "        return -1\n",
    "\n",
    "    if num % 2: # 홀수\n",
    "        num = num * 3 + 1\n",
    "    else: # 짝수\n",
    "        num = num / 2\n",
    "    \n",
    "    return collatz(count, num)\n",
    "\n",
    "def solution(num):\n",
    "    answer = collatz(0, num)\n",
    "    return answer\n",
    "\n",
    "num = 626331\n",
    "print (solution(num))"
   ]
  },
  {
   "cell_type": "markdown",
   "metadata": {},
   "source": [
    "풀이\n",
    "1. 짝 홀 판단\n",
    "2. 짝이면 2로 나누고\n",
    "3. 홀이면 3 곱하고 1 더한다\n",
    "4. count 증가\n",
    "4. 결과가 1 이면 count 리턴\n",
    "6. 아니면 다시 호출 "
   ]
  }
 ],
 "metadata": {
  "kernelspec": {
   "display_name": "Python 3",
   "language": "python",
   "name": "python3"
  },
  "language_info": {
   "codemirror_mode": {
    "name": "ipython",
    "version": 3
   },
   "file_extension": ".py",
   "mimetype": "text/x-python",
   "name": "python",
   "nbconvert_exporter": "python",
   "pygments_lexer": "ipython3",
   "version": "3.11.9"
  }
 },
 "nbformat": 4,
 "nbformat_minor": 2
}
