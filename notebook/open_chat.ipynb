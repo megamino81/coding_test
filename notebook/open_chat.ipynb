{
 "cells": [
  {
   "cell_type": "markdown",
   "metadata": {},
   "source": [
    "# 오픈채팅방\n",
    "\n",
    "https://school.programmers.co.kr/learn/courses/30/lessons/42888?language=python3\n"
   ]
  },
  {
   "cell_type": "markdown",
   "metadata": {},
   "source": [
    "## 풀이\n",
    "1.  정답 배열, 과정 배열, 유저데이터를 위한 dictionary 정의\n"
   ]
  },
  {
   "cell_type": "code",
   "execution_count": 3,
   "metadata": {},
   "outputs": [
    {
     "name": "stdout",
     "output_type": "stream",
     "text": [
      "['Prodo님이 들어왔습니다.', 'Prodo님 입장', 'Ryan님이 들어왔습니다.', 'Ryan님 입장', 'Prodo님이 나갔습니다.', 'Prodo님 퇴장', 'Prodo님이 들어왔습니다.', 'Prodo님 입장']\n"
     ]
    }
   ],
   "source": [
    "def solution(record):\n",
    "    answer = []\n",
    "    actions = []\n",
    "    user = {}\n",
    "    \n",
    "    for ev in record:\n",
    "        info = ev.split()\n",
    "        cmd, uid = info[0], info[1]\n",
    "        if cmd in (\"Enter\", \"Change\"):\n",
    "            nick= info[2]\n",
    "            user[uid] = nick\n",
    "        actions.append((cmd, uid))\n",
    "    \n",
    "    for action in actions:\n",
    "        cmd, uid = action\n",
    "        if cmd == \"Enter\":\n",
    "            answer.append(f'{user[uid]}님이 들어왔습니다.')\n",
    "            answer.append(user[uid] + \"님 입장\")\n",
    "        elif cmd == 'Leave':\n",
    "            answer.append(f'{user[uid]}님이 나갔습니다.')\n",
    "            answer.append(user[uid] + \"님 퇴장\")\n",
    "            \n",
    "    return answer\n",
    "\n",
    "record = [\"Enter uid1234 Muzi\", \"Enter uid4567 Prodo\",\"Leave uid1234\",\"Enter uid1234 Prodo\",\"Change uid4567 Ryan\"]\n",
    "# [\"Prodo님이 들어왔습니다.\", \"Ryan님이 들어왔습니다.\", \"Prodo님이 나갔습니다.\", \"Prodo님이 들어왔습니다.\"]\n",
    "\n",
    "print (solution(record))"
   ]
  }
 ],
 "metadata": {
  "kernelspec": {
   "display_name": "Python 3",
   "language": "python",
   "name": "python3"
  },
  "language_info": {
   "codemirror_mode": {
    "name": "ipython",
    "version": 3
   },
   "file_extension": ".py",
   "mimetype": "text/x-python",
   "name": "python",
   "nbconvert_exporter": "python",
   "pygments_lexer": "ipython3",
   "version": "3.10.12"
  }
 },
 "nbformat": 4,
 "nbformat_minor": 2
}
