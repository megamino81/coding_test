{
 "cells": [
  {
   "cell_type": "markdown",
   "metadata": {},
   "source": [
    "python itertools"
   ]
  },
  {
   "cell_type": "code",
   "execution_count": 2,
   "metadata": {},
   "outputs": [],
   "source": [
    "data  = ['A', 'B', 'C']"
   ]
  },
  {
   "cell_type": "code",
   "execution_count": 2,
   "metadata": {},
   "outputs": [
    {
     "name": "stdout",
     "output_type": "stream",
     "text": [
      "[('A', 'B', 'C'), ('A', 'C', 'B'), ('B', 'A', 'C'), ('B', 'C', 'A'), ('C', 'A', 'B'), ('C', 'B', 'A')]\n"
     ]
    }
   ],
   "source": [
    "# permutations\n",
    "# iterable에서 n개의 데이터를 모두 나열\n",
    "# 중복 없음\n",
    "from itertools import permutations\n",
    "print (list(permutations(data, 3)))\n",
    "'''\n",
    "[\n",
    "('A', 'B', 'C'), \n",
    "('A', 'C', 'B'), \n",
    "('B', 'A', 'C'), \n",
    "('B', 'C', 'A'), \n",
    "('C', 'A', 'B'), \n",
    "('C', 'B', 'A')\n",
    "]\n",
    "'''"
   ]
  },
  {
   "cell_type": "code",
   "execution_count": 6,
   "metadata": {},
   "outputs": [
    {
     "name": "stdout",
     "output_type": "stream",
     "text": [
      "[()]\n",
      "[('A',), ('B',), ('C',), ('D',)]\n",
      "[('A', 'B'), ('A', 'C'), ('A', 'D'), ('B', 'C'), ('B', 'D'), ('C', 'D')]\n",
      "[('A', 'B', 'C'), ('A', 'B', 'D'), ('A', 'C', 'D'), ('B', 'C', 'D')]\n"
     ]
    }
   ],
   "source": [
    "# combinations : 조합\n",
    "# iterable에서 n개의 데이터를 모두 나열\n",
    "# 순서 없음\n",
    "from itertools import combinations\n",
    "data  = ['A', 'B', 'C', 'D']\n",
    "print (list(combinations(data, 0)))\n",
    "print (list(combinations(data, 1)))\n",
    "print (list(combinations(data, 2)))\n",
    "print (list(combinations(data, 3)))\n"
   ]
  },
  {
   "cell_type": "code",
   "execution_count": 4,
   "metadata": {},
   "outputs": [
    {
     "name": "stdout",
     "output_type": "stream",
     "text": [
      "[('A', 'A', 'A'), ('A', 'A', 'B'), ('A', 'A', 'C'), ('A', 'B', 'A'), ('A', 'B', 'B'), ('A', 'B', 'C'), ('A', 'C', 'A'), ('A', 'C', 'B'), ('A', 'C', 'C'), ('B', 'A', 'A'), ('B', 'A', 'B'), ('B', 'A', 'C'), ('B', 'B', 'A'), ('B', 'B', 'B'), ('B', 'B', 'C'), ('B', 'C', 'A'), ('B', 'C', 'B'), ('B', 'C', 'C'), ('C', 'A', 'A'), ('C', 'A', 'B'), ('C', 'A', 'C'), ('C', 'B', 'A'), ('C', 'B', 'B'), ('C', 'B', 'C'), ('C', 'C', 'A'), ('C', 'C', 'B'), ('C', 'C', 'C')]\n"
     ]
    },
    {
     "data": {
      "text/plain": [
       "\"\\n[\\n('A', 'A', 'A'), ('A', 'A', 'B'), ('A', 'A', 'C'), \\n('A', 'B', 'A'), ('A', 'B', 'B'), ('A', 'B', 'C'), \\n('A', 'C', 'A'), ('A', 'C', 'B'), ('A', 'C', 'C'), \\n('B', 'A', 'A'), ('B', 'A', 'B'), ('B', 'A', 'C'), \\n('B', 'B', 'A'), ('B', 'B', 'B'), ('B', 'B', 'C'), \\n('B', 'C', 'A'), ('B', 'C', 'B'), ('B', 'C', 'C'), \\n('C', 'A', 'A'), ('C', 'A', 'B'), ('C', 'A', 'C'), \\n('C', 'B', 'A'), ('C', 'B', 'B'), ('C', 'B', 'C'), \\n('C', 'C', 'A'), ('C', 'C', 'B'), ('C', 'C', 'C')]\\n\""
      ]
     },
     "execution_count": 4,
     "metadata": {},
     "output_type": "execute_result"
    }
   ],
   "source": [
    "# product\n",
    "# iterable에서 n개의 데이터를 모두 나열\n",
    "# 중복 허용\n",
    "from itertools import product\n",
    "print (list(product(data, repeat=3)))\n",
    "'''\n",
    "[\n",
    "('A', 'A', 'A'), ('A', 'A', 'B'), ('A', 'A', 'C'), \n",
    "('A', 'B', 'A'), ('A', 'B', 'B'), ('A', 'B', 'C'), \n",
    "('A', 'C', 'A'), ('A', 'C', 'B'), ('A', 'C', 'C'), \n",
    "('B', 'A', 'A'), ('B', 'A', 'B'), ('B', 'A', 'C'), \n",
    "('B', 'B', 'A'), ('B', 'B', 'B'), ('B', 'B', 'C'), \n",
    "('B', 'C', 'A'), ('B', 'C', 'B'), ('B', 'C', 'C'), \n",
    "('C', 'A', 'A'), ('C', 'A', 'B'), ('C', 'A', 'C'), \n",
    "('C', 'B', 'A'), ('C', 'B', 'B'), ('C', 'B', 'C'), \n",
    "('C', 'C', 'A'), ('C', 'C', 'B'), ('C', 'C', 'C')]\n",
    "'''\n",
    "\n"
   ]
  }
 ],
 "metadata": {
  "kernelspec": {
   "display_name": "Python 3",
   "language": "python",
   "name": "python3"
  },
  "language_info": {
   "codemirror_mode": {
    "name": "ipython",
    "version": 3
   },
   "file_extension": ".py",
   "mimetype": "text/x-python",
   "name": "python",
   "nbconvert_exporter": "python",
   "pygments_lexer": "ipython3",
   "version": "3.11.9"
  }
 },
 "nbformat": 4,
 "nbformat_minor": 2
}
