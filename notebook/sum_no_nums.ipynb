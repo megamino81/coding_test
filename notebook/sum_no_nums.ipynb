{
 "cells": [
  {
   "cell_type": "markdown",
   "metadata": {},
   "source": [
    "# 없는 숫자 더하기\n",
    "\n",
    "https://school.programmers.co.kr/learn/courses/30/lessons/86051\n",
    "\n",
    "\n",
    "### 문제 설명\n",
    "\n",
    "0부터 9까지의 숫자 중 일부가 들어있는 정수 배열 numbers가 매개변수로 주어집니다.   \n",
    "numbers에서 찾을 수 없는 0부터 9까지의 숫자를 모두 찾아 더한 수를 return 하도록 solution 함수를 완성해주세요.\n",
    "\n",
    "### 제한사항\n",
    "* 1 ≤ numbers의 길이 ≤ 9\n",
    "    * 0 ≤ numbers의 모든 원소 ≤ 9\n",
    "    * numbers의 모든 원소는 서로 다릅니다.\n",
    "\n",
    "### 입출력 예\n",
    "```\n",
    "numbers\tresult\n",
    "[1,2,3,4,6,7,8,0]\t14\n",
    "[5,8,4,0,6,7,9]\t6\n",
    "```\n",
    "\n",
    "### 입출력 예 설명\n",
    "```\n",
    "입출력 예 #1  \n",
    "5, 9가 numbers에 없으므로, 5 + 9 = 14를 return 해야 합니다.\n",
    "\n",
    "입출력 예 #2  \n",
    "1, 2, 3이 numbers에 없으므로, 1 + 2 + 3 = 6을 return 해야 합니다.\n",
    "```\n"
   ]
  },
  {
   "cell_type": "code",
   "execution_count": 3,
   "metadata": {},
   "outputs": [
    {
     "name": "stdout",
     "output_type": "stream",
     "text": [
      "14\n",
      "6\n"
     ]
    }
   ],
   "source": [
    "def solution(numbers):\n",
    "    no_nums = []\n",
    "    for i in range(10):\n",
    "        if i not in numbers:\n",
    "            no_nums.append(i)\n",
    "    \n",
    "    s = sum(no_nums)\n",
    "    return s\n",
    "\n",
    "print(solution([1,2,3,4,6,7,8,0]))\n",
    "print(solution([5,8,4,0,6,7,9]))"
   ]
  },
  {
   "cell_type": "code",
   "execution_count": 4,
   "metadata": {},
   "outputs": [
    {
     "name": "stdout",
     "output_type": "stream",
     "text": [
      "14\n",
      "6\n"
     ]
    }
   ],
   "source": [
    "def solution(numbers):\n",
    "    return sum(range(10)) - sum(numbers)\n",
    "\n",
    "print(solution([1,2,3,4,6,7,8,0]))\n",
    "print(solution([5,8,4,0,6,7,9]))"
   ]
  }
 ],
 "metadata": {
  "kernelspec": {
   "display_name": "Python 3",
   "language": "python",
   "name": "python3"
  },
  "language_info": {
   "codemirror_mode": {
    "name": "ipython",
    "version": 3
   },
   "file_extension": ".py",
   "mimetype": "text/x-python",
   "name": "python",
   "nbconvert_exporter": "python",
   "pygments_lexer": "ipython3",
   "version": "3.10.12"
  }
 },
 "nbformat": 4,
 "nbformat_minor": 2
}
