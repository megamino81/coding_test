{
 "cells": [
  {
   "cell_type": "markdown",
   "metadata": {},
   "source": [
    "# 올바른 괄호\n",
    "\n",
    "https://school.programmers.co.kr/learn/courses/30/lessons/12909?language=python3\n",
    "\n",
    "### 문제 설명\n",
    "괄호가 바르게 짝지어졌다는 것은 '(' 문자로 열렸으면 반드시 짝지어서 ')' 문자로 닫혀야 한다는 뜻입니다.  \n",
    "\n",
    "예를 들어\n",
    "* \"()()\" 또는 \"(())()\" 는 올바른 괄호입니다.\n",
    "* \")()(\" 또는 \"(()(\" 는 올바르지 않은 괄호입니다.\n",
    "\n",
    "'(' 또는 ')' 로만 이루어진 문자열 s가 주어졌을 때,  \n",
    "문자열 s가 올바른 괄호이면 true를 return 하고,  \n",
    "올바르지 않은 괄호이면 false를 return 하는 solution 함수를 완성해 주세요.\n",
    "\n",
    "### 제한사항\n",
    "* 문자열 s의 길이 : 100,000 이하의 자연수\n",
    "* 문자열 s는 '(' 또는 ')' 로만 이루어져 있습니다.\n",
    "\n",
    "### 입출력 예\n",
    "```\n",
    "s\tanswer\n",
    "\"()()\"\ttrue\n",
    "\"(())()\"\ttrue\n",
    "\")()(\"\tfalse\n",
    "\"(()(\"\tfalse\n",
    "```\n",
    "\n",
    "### 입출력 예 설명\n",
    "```\n",
    "입출력 예 #1,2,3,4\n",
    "문제의 예시와 같습니다.\n",
    "```"
   ]
  },
  {
   "cell_type": "code",
   "execution_count": 6,
   "metadata": {},
   "outputs": [
    {
     "name": "stdout",
     "output_type": "stream",
     "text": [
      "True\n",
      "True\n",
      "False\n",
      "False\n"
     ]
    }
   ],
   "source": [
    "def solution(s):\n",
    "    if s.startswith(')'):\n",
    "        return False\n",
    "    \n",
    "    stack = []\n",
    "    for c in s:\n",
    "        if c == '(':\n",
    "            stack.append(c)\n",
    "        else:\n",
    "            if not stack:\n",
    "                return False\n",
    "            else:\n",
    "                stack.pop()\n",
    "    \n",
    "    if not stack:\n",
    "        return True\n",
    "    return False\n",
    "    \n",
    "\n",
    "print(solution(\"()()\"))\n",
    "print(solution(\"(())()\"))\n",
    "print(solution(\")()(\"))\n",
    "print(solution(\"(()(\"))\n"
   ]
  },
  {
   "cell_type": "code",
   "execution_count": 3,
   "metadata": {},
   "outputs": [
    {
     "ename": "IndexError",
     "evalue": "pop from empty list",
     "output_type": "error",
     "traceback": [
      "\u001b[0;31m---------------------------------------------------------------------------\u001b[0m",
      "\u001b[0;31mIndexError\u001b[0m                                Traceback (most recent call last)",
      "Cell \u001b[0;32mIn[3], line 2\u001b[0m\n\u001b[1;32m      1\u001b[0m a \u001b[38;5;241m=\u001b[39m []\n\u001b[0;32m----> 2\u001b[0m \u001b[43ma\u001b[49m\u001b[38;5;241;43m.\u001b[39;49m\u001b[43mpop\u001b[49m\u001b[43m(\u001b[49m\u001b[43m)\u001b[49m\n",
      "\u001b[0;31mIndexError\u001b[0m: pop from empty list"
     ]
    }
   ],
   "source": [
    "a = []\n",
    "a.pop()\n"
   ]
  }
 ],
 "metadata": {
  "kernelspec": {
   "display_name": "Python 3",
   "language": "python",
   "name": "python3"
  },
  "language_info": {
   "codemirror_mode": {
    "name": "ipython",
    "version": 3
   },
   "file_extension": ".py",
   "mimetype": "text/x-python",
   "name": "python",
   "nbconvert_exporter": "python",
   "pygments_lexer": "ipython3",
   "version": "3.10.12"
  }
 },
 "nbformat": 4,
 "nbformat_minor": 2
}
