{
 "cells": [
  {
   "cell_type": "markdown",
   "metadata": {},
   "source": [
    "# 3진법 뒤집기\n",
    "\n",
    "https://school.programmers.co.kr/learn/courses/30/lessons/68935\n",
    "\n",
    "#### 문제 설명\n",
    "자연수 n이 매개변수로 주어집니다. n을 3진법 상에서 앞뒤로 뒤집은 후, 이를 다시 10진법으로 표현한 수를 return 하도록 solution 함수를 완성해주세요.\n",
    "\n",
    "#### 제한사항\n",
    "n은 1 이상 100,000,000 이하인 자연수입니다.\n",
    "\n",
    "#### 입출력 예\n",
    "```\n",
    "n\tresult\n",
    "45\t7\n",
    "125\t229\n",
    "```\n",
    "\n",
    "#### 입출력 예 설명\n",
    "##### 입출력 예 #1\n",
    "* 답을 도출하는 과정은 다음과 같습니다.\n",
    "```\n",
    "n (10진법)\tn (3진법)\t앞뒤 반전(3진법)\t10진법으로 표현\n",
    "45\t1200\t0021\t7\n",
    "```\n",
    "* 따라서 7을 return 해야 합니다.\n",
    "\n",
    "##### 입출력 예 #2\n",
    "* 답을 도출하는 과정은 다음과 같습니다.\n",
    "```\n",
    "n (10진법)\tn (3진법)\t앞뒤 반전(3진법)\t10진법으로 표현\n",
    "125\t11122\t22111\t229\n",
    "```\n",
    "* 따라서 229를 return 해야 합니다."
   ]
  },
  {
   "cell_type": "code",
   "execution_count": 8,
   "metadata": {},
   "outputs": [
    {
     "name": "stdout",
     "output_type": "stream",
     "text": [
      "15 0\n",
      "['0']\n",
      "5 0\n",
      "['0', '0']\n",
      "1 2\n",
      "['0', '0', '2']\n",
      "0 1\n",
      "['0', '0', '2', '1']\n",
      "7\n",
      "41 2\n",
      "['2']\n",
      "13 2\n",
      "['2', '2']\n",
      "4 1\n",
      "['2', '2', '1']\n",
      "1 1\n",
      "['2', '2', '1', '1']\n",
      "0 1\n",
      "['2', '2', '1', '1', '1']\n",
      "229\n"
     ]
    }
   ],
   "source": [
    "def change_radix(n, radix):\n",
    "    if n == 0: return '0'\n",
    "    \n",
    "    nums = []\n",
    "    while n:\n",
    "        n, mod = divmod(n, radix)\n",
    "        nums.append(str(mod))\n",
    "        #print (n, mod)\n",
    "        #print (nums)\n",
    "\n",
    "    return \"\".join(reversed(nums))\n",
    "        \n",
    "def solution(n):\n",
    "    answer = int(change_radix(n, 3)[::-1], 3)\n",
    "    return answer     \n",
    "\n",
    "print(solution(45))\n",
    "print(solution(125))\n"
   ]
  }
 ],
 "metadata": {
  "kernelspec": {
   "display_name": "Python 3",
   "language": "python",
   "name": "python3"
  },
  "language_info": {
   "codemirror_mode": {
    "name": "ipython",
    "version": 3
   },
   "file_extension": ".py",
   "mimetype": "text/x-python",
   "name": "python",
   "nbconvert_exporter": "python",
   "pygments_lexer": "ipython3",
   "version": "3.10.12"
  }
 },
 "nbformat": 4,
 "nbformat_minor": 2
}
