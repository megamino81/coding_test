{
 "cells": [
  {
   "cell_type": "markdown",
   "metadata": {},
   "source": [
    "# 베스트앨범\n",
    "\n",
    "https://school.programmers.co.kr/learn/courses/30/lessons/42579?language=python3\n",
    "\n",
    "## 문제 설명\n",
    "스트리밍 사이트에서 장르 별로 가장 많이 재생된 노래를 두 개씩 모아 베스트 앨범을 출시하려 합니다.  \n",
    "노래는 고유 번호로 구분하며, 노래를 수록하는 기준은 다음과 같습니다.\n",
    "\n",
    "1. 속한 노래가 많이 재생된 장르를 먼저 수록합니다.\n",
    "2. 장르 내에서 많이 재생된 노래를 먼저 수록합니다.\n",
    "3. 장르 내에서 재생 횟수가 같은 노래 중에서는 고유 번호가 낮은 노래를 먼저 수록합니다.\n",
    "\n",
    "노래의 장르를 나타내는 문자열 배열 genres와 노래별 재생 횟수를 나타내는 정수 배열 plays가 주어질 때,  \n",
    "베스트 앨범에 들어갈 노래의 고유 번호를 순서대로 return 하도록 solution 함수를 완성하세요.\n",
    "\n",
    "## 제한사항\n",
    "* genres[i]는 고유번호가 i인 노래의 장르입니다.\n",
    "* plays[i]는 고유번호가 i인 노래가 재생된 횟수입니다.\n",
    "* genres와 plays의 길이는 같으며, 이는 1 이상 10,000 이하입니다.\n",
    "* 장르 종류는 100개 미만입니다.\n",
    "* 장르에 속한 곡이 하나라면, 하나의 곡만 선택합니다.\n",
    "* 모든 장르는 재생된 횟수가 다릅니다.\n"
   ]
  },
  {
   "cell_type": "markdown",
   "metadata": {},
   "source": [
    "## 플이\n",
    "1. 데이터를 분할하여 조건에 맞게 정리\n",
    "    * 장르별 전체 재생수 {'classic': 4500, 'pop':2000}\n",
    "    * 장르별 재생수 + 순번 {'classic':[(0, 500), (1, 2000)]...}\n",
    "2. 데이터를 정렬하여 조건에 맞게 탐색\n",
    "    "
   ]
  },
  {
   "cell_type": "code",
   "execution_count": 4,
   "metadata": {},
   "outputs": [
    {
     "name": "stdout",
     "output_type": "stream",
     "text": [
      "[4, 1, 3, 0]\n"
     ]
    }
   ],
   "source": [
    "def solution(genres, plays):\n",
    "    answer = []\n",
    "    info = {}\n",
    "    gens = {}\n",
    "    \n",
    "    for idx, (gen, play) in enumerate(zip(genres, plays)):\n",
    "        if gen not in info:\n",
    "            info[gen] = [(idx, play)]\n",
    "        else:\n",
    "            info[gen].append((idx, play))\n",
    "        gens[gen] = gens.get(gen, 0) + play\n",
    "        \n",
    "    for (gen, _) in sorted(gens.items(), key=lambda x:x[1], reverse=True):\n",
    "        for (idx, _) in sorted(info[gen], key=lambda x:x[1], reverse=True)[:2]:\n",
    "            answer.append(idx)\n",
    "    \n",
    "    return answer\n",
    "\n",
    "genres = [\"classic\", \"pop\", \"classic\", \"classic\", \"pop\"]\n",
    "plays = [500, 600, 150, 800, 2500]\n",
    "\n",
    "print (solution(genres, plays))"
   ]
  }
 ],
 "metadata": {
  "kernelspec": {
   "display_name": "Python 3",
   "language": "python",
   "name": "python3"
  },
  "language_info": {
   "codemirror_mode": {
    "name": "ipython",
    "version": 3
   },
   "file_extension": ".py",
   "mimetype": "text/x-python",
   "name": "python",
   "nbconvert_exporter": "python",
   "pygments_lexer": "ipython3",
   "version": "3.10.12"
  }
 },
 "nbformat": 4,
 "nbformat_minor": 2
}
