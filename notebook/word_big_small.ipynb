{
 "cells": [
  {
   "cell_type": "markdown",
   "metadata": {},
   "source": [
    "문제 설명\n",
    "문자열 s는 한 개 이상의 단어로 구성되어 있습니다. 각 단어는 하나 이상의 공백문자로 구분되어 있습니다. \n",
    "각 단어의 짝수번째 알파벳은 대문자로, 홀수번째 알파벳은 소문자로 바꾼 문자열을 리턴하는 함수, solution을 완성하세요.\n",
    "\n",
    "제한 사항\n",
    "문자열 전체의 짝/홀수 인덱스가 아니라, 단어(공백을 기준)별로 짝/홀수 인덱스를 판단해야합니다.\n",
    "첫 번째 글자는 0번째 인덱스로 보아 짝수번째 알파벳으로 처리해야 합니다.\n",
    "\n",
    "입출력 예\n",
    "s\treturn\n",
    "\"try hello world\"\t\"TrY HeLlO WoRlD\"\n",
    "입출력 예 설명\n",
    "\"try hello world\"는 세 단어 \"try\", \"hello\", \"world\"로 구성되어 있습니다. 각 단어의 짝수번째 문자를 대문자로, 홀수번째 문자를 소문자로 바꾸면 \"TrY\", \"HeLlO\", \"WoRlD\"입니다. 따라서 \"TrY HeLlO WoRlD\" 를 리턴합니다."
   ]
  },
  {
   "cell_type": "markdown",
   "metadata": {},
   "source": [
    "1. 입력된 문자열을 문자 리스트로 만들기\n",
    "2. 리스트의 각 단어에 대해서 대/소 처리"
   ]
  },
  {
   "cell_type": "code",
   "execution_count": 15,
   "metadata": {},
   "outputs": [
    {
     "name": "stdout",
     "output_type": "stream",
     "text": [
      "['try', 'hello', 'world']\n",
      "TrY\n",
      "HeLlO\n",
      "WoRlD\n",
      "['TrY', 'HeLlO', 'WoRlD']\n",
      "TrY HeLlO WoRlD\n",
      "done\n"
     ]
    }
   ],
   "source": [
    "def solution(s):\n",
    "    answer = ''\n",
    "    \n",
    "    word_list = s.split(\" \")\n",
    "    new_word_list = []\n",
    "    print (word_list)\n",
    "\n",
    "    for word in word_list:\n",
    "        new_word = \"\"\n",
    "        for i, c in enumerate(word):\n",
    "            if i % 2 == 0:\n",
    "                c = c.upper()\n",
    "            else:\n",
    "                c = c.lower()\n",
    "            new_word += c\n",
    "        print(new_word)\n",
    "        new_word_list.append(new_word)\n",
    "    print (new_word_list)\n",
    "    answer = \" \". join(new_word_list)\n",
    "    return answer\n",
    "\n",
    "s = \"try hello world\"\n",
    "answer = solution(s)\n",
    "print (answer)\n",
    "\n",
    "print (\"done\")"
   ]
  }
 ],
 "metadata": {
  "kernelspec": {
   "display_name": "Python 3",
   "language": "python",
   "name": "python3"
  },
  "language_info": {
   "codemirror_mode": {
    "name": "ipython",
    "version": 3
   },
   "file_extension": ".py",
   "mimetype": "text/x-python",
   "name": "python",
   "nbconvert_exporter": "python",
   "pygments_lexer": "ipython3",
   "version": "3.11.9"
  }
 },
 "nbformat": 4,
 "nbformat_minor": 2
}
