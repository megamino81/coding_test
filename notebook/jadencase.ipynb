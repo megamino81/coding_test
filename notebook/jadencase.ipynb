{
 "cells": [
  {
   "cell_type": "markdown",
   "metadata": {},
   "source": [
    "# JadenCase 문자열 만들기\n",
    "https://school.programmers.co.kr/learn/courses/30/lessons/12951\n",
    "\n",
    "### 문제 설명\n",
    "JadenCase란 모든 단어의 첫 문자가 대문자이고, 그 외의 알파벳은 소문자인 문자열입니다.  \n",
    "단, 첫 문자가 알파벳이 아닐 때에는 이어지는 알파벳은 소문자로 쓰면 됩니다. (첫 번째 입출력 예 참고)  \n",
    "\n",
    "문자열 s가 주어졌을 때, s를 JadenCase로 바꾼 문자열을 리턴하는 함수, solution을 완성해주세요.\n",
    "\n",
    "### 제한 조건\n",
    "* s는 길이 1 이상 200 이하인 문자열입니다.\n",
    "* s는 알파벳과 숫자, 공백문자(\" \")로 이루어져 있습니다.\n",
    "    * 숫자는 단어의 첫 문자로만 나옵니다.\n",
    "    * 숫자로만 이루어진 단어는 없습니다.\n",
    "    * 공백문자가 연속해서 나올 수 있습니다.\n",
    "\n",
    "### 입출력 예\n",
    "```\n",
    "s\treturn\n",
    "\"3people unFollowed me\"\t\"3people Unfollowed Me\"\n",
    "\"for the last week\"\t\"For The Last Week\"\n",
    "```"
   ]
  },
  {
   "cell_type": "code",
   "execution_count": 13,
   "metadata": {},
   "outputs": [
    {
     "name": "stdout",
     "output_type": "stream",
     "text": [
      "['3people', 'unFollowed', 'me']\n",
      "3people Unfollowed Me\n",
      "['for', 'the', 'last', 'week']\n",
      "For The Last Week\n",
      "['for', 'the', 'last', '', 'week']\n",
      "For The Last  Week\n"
     ]
    }
   ],
   "source": [
    "def solution(s):\n",
    "    words = s.split(' ')\n",
    "    print(words)\n",
    "    for i in range(len(words)):\n",
    "        w = words[i]\n",
    "        if w != \"\":\n",
    "            words[i] = w[0].upper() + w[1:].lower()\n",
    "        else:\n",
    "            pass\n",
    "    answer = ' '.join(words)\n",
    "    return answer    \n",
    "\n",
    "print(solution(\"3people unFollowed me\"))\n",
    "print(solution(\"for the last week\"))\n",
    "print(solution(\"for the last  week\"))"
   ]
  }
 ],
 "metadata": {
  "kernelspec": {
   "display_name": "Python 3",
   "language": "python",
   "name": "python3"
  },
  "language_info": {
   "codemirror_mode": {
    "name": "ipython",
    "version": 3
   },
   "file_extension": ".py",
   "mimetype": "text/x-python",
   "name": "python",
   "nbconvert_exporter": "python",
   "pygments_lexer": "ipython3",
   "version": "3.10.12"
  }
 },
 "nbformat": 4,
 "nbformat_minor": 2
}
