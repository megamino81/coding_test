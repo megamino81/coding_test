{
 "cells": [
  {
   "cell_type": "markdown",
   "metadata": {},
   "source": [
    "# 두 개 뽑아서 더하기\n",
    "https://school.programmers.co.kr/learn/courses/30/lessons/68644\n",
    "\n",
    "### 문제 설명\n",
    "정수 배열 numbers가 주어집니다. numbers에서 서로 다른 인덱스에 있는 두 개의 수를 뽑아 더해서 만들 수 있는 모든 수를 배열에 오름차순으로 담아 return 하도록 solution 함수를 완성해주세요.\n",
    "\n",
    "### 제한사항\n",
    "* numbers의 길이는 2 이상 100 이하입니다.\n",
    "* numbers의 모든 수는 0 이상 100 이하입니다.\n",
    "\n",
    "### 입출력 예\n",
    "```\n",
    "numbers\tresult\n",
    "[2,1,3,4,1]\t[2,3,4,5,6,7]\n",
    "[5,0,2,7]\t[2,5,7,9,12]\n",
    "```\n",
    "\n",
    "### 입출력 예 설명\n",
    "입출력 예 #1\n",
    "* 2 = 1 + 1 입니다. (1이 numbers에 두 개 있습니다.)\n",
    "* 3 = 2 + 1 입니다.\n",
    "* 4 = 1 + 3 입니다.\n",
    "* 5 = 1 + 4 = 2 + 3 입니다.\n",
    "* 6 = 2 + 4 입니다.\n",
    "* 7 = 3 + 4 입니다.\n",
    "* 따라서 [2,3,4,5,6,7] 을 return 해야 합니다.\n",
    "\n",
    "\n",
    "입출력 예 #2\n",
    "* 2 = 0 + 2 입니다.\n",
    "* 5 = 5 + 0 입니다.\n",
    "* 7 = 0 + 7 = 5 + 2 입니다.\n",
    "* 9 = 2 + 7 입니다.\n",
    "* 12 = 5 + 7 입니다.\n",
    "* 따라서 [2,5,7,9,12] 를 return 해야 합니다."
   ]
  },
  {
   "cell_type": "markdown",
   "metadata": {},
   "source": [
    "풀이\n",
    "1. numbers 를 반복하며, numbers를 더한 수를 다 구한다.\n",
    "2. 중복제거\n",
    "3. 오름차순 sorting"
   ]
  },
  {
   "cell_type": "code",
   "execution_count": 4,
   "metadata": {},
   "outputs": [
    {
     "name": "stdout",
     "output_type": "stream",
     "text": [
      "{2, 3, 4, 5, 6, 7}\n",
      "{2, 5, 7, 9, 12}\n"
     ]
    }
   ],
   "source": [
    "def solution(numbers):\n",
    "    answer = []\n",
    "\n",
    "    for i, x in enumerate(numbers):\n",
    "        for j, y in enumerate(numbers):\n",
    "            if i != j:\n",
    "                answer.append(x + y)\n",
    "    answer = set(answer)\n",
    "    sorted(answer)\n",
    "    return answer\n",
    "\n",
    "\n",
    "a = [2,1,3,4,1]\n",
    "print(solution(a))\n",
    "\n",
    "b = [5,0,2,7]\n",
    "print(solution(b))"
   ]
  },
  {
   "cell_type": "code",
   "execution_count": 6,
   "metadata": {},
   "outputs": [
    {
     "name": "stdout",
     "output_type": "stream",
     "text": [
      "[2, 3, 4, 5, 6, 7]\n",
      "[2, 5, 7, 9, 12]\n"
     ]
    }
   ],
   "source": [
    "from itertools import combinations\n",
    "\n",
    "def solution2(numbers):\n",
    "    answer = set()\n",
    "    selects = list(combinations(numbers, 2))\n",
    "    for a, b in selects:\n",
    "        answer.add(a + b)\n",
    "\n",
    "    return sorted(answer)\n",
    "\n",
    "\n",
    "a = [2,1,3,4,1]\n",
    "print(solution2(a))\n",
    "\n",
    "b = [5,0,2,7]\n",
    "print(solution2(b))"
   ]
  }
 ],
 "metadata": {
  "kernelspec": {
   "display_name": "Python 3",
   "language": "python",
   "name": "python3"
  },
  "language_info": {
   "codemirror_mode": {
    "name": "ipython",
    "version": 3
   },
   "file_extension": ".py",
   "mimetype": "text/x-python",
   "name": "python",
   "nbconvert_exporter": "python",
   "pygments_lexer": "ipython3",
   "version": "3.11.9"
  }
 },
 "nbformat": 4,
 "nbformat_minor": 2
}
