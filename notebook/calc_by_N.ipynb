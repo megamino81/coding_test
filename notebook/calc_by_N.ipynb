{
 "cells": [
  {
   "cell_type": "markdown",
   "metadata": {},
   "source": [
    "# N으로 표현\n",
    "\n",
    "https://school.programmers.co.kr/learn/courses/30/lessons/42895?language=python3\n",
    "\n",
    "### 문제 설명\n",
    "아래와 같이 5와 사칙연산만으로 12를 표현할 수 있습니다.\n",
    "\n",
    "```\n",
    "12 = 5 + 5 + (5 / 5) + (5 / 5)\n",
    "12 = 55 / 5 + 5 / 5\n",
    "12 = (55 + 5) / 5\n",
    "```\n",
    "\n",
    "5를 사용한 횟수는 각각 6,5,4 입니다. 그리고 이중 가장 작은 경우는 4입니다.\n",
    "이처럼 숫자 N과 number가 주어질 때, N과 사칙연산만 사용해서 표현 할 수 있는 방법 중 N 사용횟수의 최솟값을 return 하도록 solution 함수를 작성하세요.\n",
    "\n",
    "### 제한사항\n",
    "* N은 1 이상 9 이하입니다.\n",
    "* number는 1 이상 32,000 이하입니다.\n",
    "* 수식에는 괄호와 사칙연산만 가능하며 나누기 연산에서 나머지는 무시합니다.\n",
    "* 최솟값이 8보다 크면 -1을 return 합니다.\n",
    "\n",
    "### 입출력 예\n",
    "```\n",
    "N\tnumber\treturn\n",
    "5\t12\t4\n",
    "2\t11\t3\n",
    "```\n",
    "\n",
    "### 입출력 예 설명\n",
    "```\n",
    "예제 #1\n",
    "문제에 나온 예와 같습니다.\n",
    "\n",
    "예제 #2\n",
    "11 = 22 / 2와 같이 2를 3번만 사용하여 표현할 수 있습니다.\n",
    "```"
   ]
  },
  {
   "cell_type": "markdown",
   "metadata": {},
   "source": [
    "## 풀이\n",
    "1. 연산 결과를 기록할 배열\n",
    "2. 이전 결화에서 사칙연산을 한번 더 수행하여 새로운 결과를 만들기\n",
    "3. 계산이 한번 끝날때마다 원하는 숫자가 있는지 확인\n",
    " "
   ]
  },
  {
   "cell_type": "code",
   "execution_count": 3,
   "metadata": {},
   "outputs": [
    {
     "name": "stdout",
     "output_type": "stream",
     "text": [
      "4\n",
      "3\n"
     ]
    }
   ],
   "source": [
    "def solution(N, number):\n",
    "    dp = [set() for i in range(9)]\n",
    "    \n",
    "    for i in range(1, 9):\n",
    "        case = dp[i]\n",
    "        case.add(int(str(N) * i))\n",
    "        for j in range(1, i):\n",
    "            for k in dp[j]:\n",
    "                for l in dp[i-j]:\n",
    "                    case.add(k + l)\n",
    "                    case.add(k - l)\n",
    "                    case.add(k * l)\n",
    "                    if l != 0 and k != 0:\n",
    "                        case.add(k // l)\n",
    "        if number in case:\n",
    "            return i\n",
    "    return -1\n",
    "\n",
    "print (solution(5, 12))\n",
    "print (solution(2, 11))\n"
   ]
  },
  {
   "cell_type": "code",
   "execution_count": 11,
   "metadata": {},
   "outputs": [],
   "source": [
    "for i in range(1,1):\n",
    "    print (i)"
   ]
  }
 ],
 "metadata": {
  "kernelspec": {
   "display_name": "Python 3",
   "language": "python",
   "name": "python3"
  },
  "language_info": {
   "codemirror_mode": {
    "name": "ipython",
    "version": 3
   },
   "file_extension": ".py",
   "mimetype": "text/x-python",
   "name": "python",
   "nbconvert_exporter": "python",
   "pygments_lexer": "ipython3",
   "version": "3.10.12"
  }
 },
 "nbformat": 4,
 "nbformat_minor": 2
}
