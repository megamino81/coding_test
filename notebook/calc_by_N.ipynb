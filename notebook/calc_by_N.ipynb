{
 "cells": [
  {
   "cell_type": "code",
   "execution_count": null,
   "metadata": {},
   "outputs": [],
   "source": [
    "#"
   ]
  },
  {
   "cell_type": "markdown",
   "metadata": {},
   "source": [
    "# N으로 표현\n",
    "\n",
    "https://school.programmers.co.kr/learn/courses/30/lessons/42895?language=python3"
   ]
  },
  {
   "cell_type": "markdown",
   "metadata": {},
   "source": [
    "## 풀이\n",
    "1. 연산 결과를 기록할 배열\n",
    "2. 이전 결화에서 사칙연산을 한번 더 수행하여 새로운 결과를 만들기\n",
    "3. 계산이 한번 끝날때마다 원하는 숫자가 있는지 확인\n",
    " "
   ]
  },
  {
   "cell_type": "code",
   "execution_count": 3,
   "metadata": {},
   "outputs": [
    {
     "name": "stdout",
     "output_type": "stream",
     "text": [
      "4\n",
      "3\n"
     ]
    }
   ],
   "source": [
    "def solution(N, number):\n",
    "    dp = [set() for i in range(9)]\n",
    "    \n",
    "    for i in range(1, 9):\n",
    "        case = dp[i]\n",
    "        case.add(int(str(N) * i))\n",
    "        for j in range(1, i):\n",
    "            for k in dp[j]:\n",
    "                for l in dp[i-j]:\n",
    "                    case.add(k + l)\n",
    "                    case.add(k - l)\n",
    "                    case.add(k * l)\n",
    "                    if l != 0 and k != 0:\n",
    "                        case.add(k // l)\n",
    "        if number in case:\n",
    "            return i\n",
    "    return -1\n",
    "\n",
    "print (solution(5, 12))\n",
    "print (solution(2, 11))\n"
   ]
  },
  {
   "cell_type": "code",
   "execution_count": 11,
   "metadata": {},
   "outputs": [],
   "source": [
    "for i in range(1,1):\n",
    "    print (i)"
   ]
  }
 ],
 "metadata": {
  "kernelspec": {
   "display_name": "Python 3",
   "language": "python",
   "name": "python3"
  },
  "language_info": {
   "codemirror_mode": {
    "name": "ipython",
    "version": 3
   },
   "file_extension": ".py",
   "mimetype": "text/x-python",
   "name": "python",
   "nbconvert_exporter": "python",
   "pygments_lexer": "ipython3",
   "version": "3.10.12"
  }
 },
 "nbformat": 4,
 "nbformat_minor": 2
}
