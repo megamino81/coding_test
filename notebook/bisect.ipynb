{
 "cells": [
  {
   "cell_type": "code",
   "execution_count": null,
   "metadata": {},
   "outputs": [],
   "source": []
  },
  {
   "cell_type": "markdown",
   "metadata": {},
   "source": [
    "# 값이 특정 범위에 속하는 데이터 개수 구하기\n",
    "\n",
    "from bisect import bisect_left, bisect_right\n",
    "\n",
    "  right_index = bisect_right(a, right_value)\n",
    "  left_index = bisect_left(a, left_value)"
   ]
  },
  {
   "cell_type": "code",
   "execution_count": 2,
   "metadata": {},
   "outputs": [
    {
     "name": "stdout",
     "output_type": "stream",
     "text": [
      "2\n",
      "6\n",
      "1\n"
     ]
    }
   ],
   "source": [
    "# 값이 특정 범위에 속하는 데이터 개수 구하기\n",
    "\n",
    "from bisect import bisect_left, bisect_right\n",
    "\n",
    "#값이 [left_value, right_value]인 데이터 개수 반환\n",
    "def count_by_range(a, left_value, right_value):\n",
    "  right_index = bisect_right(a, right_value)\n",
    "  left_index = bisect_left(a, left_value)\n",
    "  return right_index - left_index\n",
    "\n",
    "a = [1, 2, 3, 3, 3, 3, 4, 4, 8, 9]\n",
    "\n",
    "print(count_by_range(a, 4, 4))\n",
    "print(count_by_range(a, -1, 3))\n",
    "print(count_by_range(a, 8, 8))\n"
   ]
  }
 ],
 "metadata": {
  "kernelspec": {
   "display_name": "Python 3",
   "language": "python",
   "name": "python3"
  },
  "language_info": {
   "codemirror_mode": {
    "name": "ipython",
    "version": 3
   },
   "file_extension": ".py",
   "mimetype": "text/x-python",
   "name": "python",
   "nbconvert_exporter": "python",
   "pygments_lexer": "ipython3",
   "version": "3.11.9"
  }
 },
 "nbformat": 4,
 "nbformat_minor": 2
}
