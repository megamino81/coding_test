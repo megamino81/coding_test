{
 "cells": [
  {
   "cell_type": "markdown",
   "metadata": {},
   "source": [
    "# 값이 특정 범위에 속하는 데이터 개수 구하기\n",
    "\n",
    "```python\n",
    "from bisect import bisect_left, bisect_right\n",
    "  right_index = bisect_right(a, right_value)\n",
    "  left_index = bisect_left(a, left_value)\n",
    "```\n"
   ]
  },
  {
   "cell_type": "code",
   "execution_count": 2,
   "metadata": {},
   "outputs": [
    {
     "name": "stdout",
     "output_type": "stream",
     "text": [
      "1\n",
      "5\n"
     ]
    }
   ],
   "source": [
    "# bisect\n",
    "'''\n",
    "# bisect는 이진 탐색 기능을 제공\n",
    "# 정렬된 배열에서 특정한 원소를 찾을때\n",
    "# bisect_left(a, x): 정렬된 순서를 유지하면서 리스트 a에 데이터 x를 삽입할 가장 왼쪽 인덱스를 찾음\n",
    "# bisect_left(a, x): 정렬된 순서를 유지하면서 리스트 a에 데이터 x를 삽입할 가장 오른쪽 인덱스를 찾음\n",
    "'''\n",
    "\n",
    "from bisect import bisect_left, bisect_right\n",
    "data = [1, 4, 5, 2, 2, 3, 19, 192, 39]\n",
    "# [1, 2, 2, 3, 4, 5, 19, 39, 192]]\n",
    "target = 2\n",
    "print(bisect_left(data, target))\n",
    "# >>> 1\n",
    "print(bisect_right(data, target))\n",
    "# >>> 5 "
   ]
  },
  {
   "cell_type": "code",
   "execution_count": 2,
   "metadata": {},
   "outputs": [
    {
     "name": "stdout",
     "output_type": "stream",
     "text": [
      "2\n",
      "6\n",
      "1\n"
     ]
    }
   ],
   "source": [
    "# 값이 특정 범위에 속하는 데이터 개수 구하기\n",
    "\n",
    "from bisect import bisect_left, bisect_right\n",
    "\n",
    "#값이 [left_value, right_value]인 데이터 개수 반환\n",
    "def count_by_range(a, left_value, right_value):\n",
    "  right_index = bisect_right(a, right_value)\n",
    "  left_index = bisect_left(a, left_value)\n",
    "  return right_index - left_index\n",
    "\n",
    "a = [1, 2, 3, 3, 3, 3, 4, 4, 8, 9]\n",
    "\n",
    "print(count_by_range(a, 4, 4))\n",
    "print(count_by_range(a, -1, 3))\n",
    "print(count_by_range(a, 8, 8))\n"
   ]
  }
 ],
 "metadata": {
  "kernelspec": {
   "display_name": "Python 3",
   "language": "python",
   "name": "python3"
  },
  "language_info": {
   "codemirror_mode": {
    "name": "ipython",
    "version": 3
   },
   "file_extension": ".py",
   "mimetype": "text/x-python",
   "name": "python",
   "nbconvert_exporter": "python",
   "pygments_lexer": "ipython3",
   "version": "3.11.9"
  }
 },
 "nbformat": 4,
 "nbformat_minor": 2
}
