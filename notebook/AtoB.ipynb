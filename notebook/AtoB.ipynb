{
 "cells": [
  {
   "cell_type": "markdown",
   "metadata": {},
   "source": [
    "# A로 B 만들기\n",
    "\n",
    "https://school.programmers.co.kr/learn/courses/30/lessons/120886?language=python3\n",
    "\n",
    "### 문제 설명\n",
    "문자열 before와 after가 매개변수로 주어질 때,  \n",
    "before의 순서를 바꾸어 after를 만들 수 있으면 1을,  \n",
    "만들 수 없으면 0을 return 하도록 solution 함수를 완성해보세요.\n",
    "\n",
    "### 제한사항\n",
    "* 0 < before의 길이 == after의 길이 < 1,000\n",
    "* before와 after는 모두 소문자로 이루어져 있습니다.\n",
    "\n",
    "### 입출력 예\n",
    "```\n",
    "before\tafter\tresult\n",
    "\"olleh\"\t\"hello\"\t1\n",
    "\"allpe\"\t\"apple\"\t0\n",
    "```\n",
    "\n",
    "### 입출력 예 설명\n",
    "```\n",
    "입출력 예 #1\n",
    "\"olleh\"의 순서를 바꾸면 \"hello\"를 만들 수 있습니다.\n",
    "\n",
    "입출력 예 #2\n",
    "\"allpe\"의 순서를 바꿔도 \"apple\"을 만들 수 없습니다.\n",
    "```"
   ]
  },
  {
   "cell_type": "code",
   "execution_count": 6,
   "metadata": {},
   "outputs": [
    {
     "name": "stdout",
     "output_type": "stream",
     "text": [
      "['e', 'h', 'l', 'l', 'o']\n",
      "['e', 'h', 'l', 'l', 'o']\n",
      "1\n",
      "['a', 'e', 'l', 'l', 'p']\n",
      "['a', 'e', 'l', 'p', 'p']\n",
      "0\n"
     ]
    }
   ],
   "source": [
    "def solution(before, after):\n",
    "    before = sorted(before)\n",
    "    after = sorted(after)\n",
    "    if before == after:\n",
    "        return 1\n",
    "    return 0\n",
    "\n",
    "before = \"olleh\"\n",
    "after = \"hello\"\n",
    "print (solution(before, after))\n",
    "\n",
    "before = \"allpe\"\n",
    "after = \"apple\"\n",
    "print (solution(before, after))"
   ]
  }
 ],
 "metadata": {
  "kernelspec": {
   "display_name": "Python 3",
   "language": "python",
   "name": "python3"
  },
  "language_info": {
   "codemirror_mode": {
    "name": "ipython",
    "version": 3
   },
   "file_extension": ".py",
   "mimetype": "text/x-python",
   "name": "python",
   "nbconvert_exporter": "python",
   "pygments_lexer": "ipython3",
   "version": "3.10.12"
  }
 },
 "nbformat": 4,
 "nbformat_minor": 2
}
