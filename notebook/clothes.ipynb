{
 "cells": [
  {
   "cell_type": "markdown",
   "metadata": {},
   "source": [
    "# 의상\n",
    "\n",
    "https://school.programmers.co.kr/learn/courses/30/lessons/42578?language=python3\n",
    "\n",
    "## 문제 설명\n",
    "\n",
    "코니는 매일 다른 옷을 조합하여 입는것을 좋아합니다.\n",
    "\n",
    "예를 들어 코니가 가진 옷이 아래와 같고, 오늘 코니가 동그란 안경, 긴 코트, 파란색 티셔츠를 입었다면 다음날은 청바지를 추가로 입거나 동그란 안경 대신 검정 선글라스를 착용하거나 해야합니다.\n",
    "```\n",
    "종류\t이름\n",
    "얼굴\t동그란 안경, 검정 선글라스\n",
    "상의\t파란색 티셔츠\n",
    "하의\t청바지\n",
    "겉옷\t긴 코트\n",
    "```\n",
    "\n",
    "* 코니는 각 종류별로 최대 1가지 의상만 착용할 수 있습니다.  \n",
    "예를 들어 위 예시의 경우 동그란 안경과 검정 선글라스를 동시에 착용할 수는 없습니다.\n",
    "* 착용한 의상의 일부가 겹치더라도, 다른 의상이 겹치지 않거나,  \n",
    "혹은 의상을 추가로 더 착용한 경우에는 서로 다른 방법으로 옷을 착용한 것으로 계산합니다.\n",
    "* 코니는 하루에 최소 한 개의 의상은 입습니다.\n",
    "\n",
    "코니가 가진 의상들이 담긴 2차원 배열 clothes가 주어질 때 서로 다른 옷의 조합의 수를 return 하도록 solution 함수를 작성해주세요"
   ]
  },
  {
   "cell_type": "markdown",
   "metadata": {},
   "source": [
    "## 풀이\n",
    "1. 경우의 수를 곱하기 위해 변수 초기화\n",
    "2. 옷을 종료별로 해시 테이블 만들기\n",
    "3. 해시 테이블에 존재하는 \"옷종류 * (가짓수+1)\"로 곱셈 진행, 이 값에 -1하여 출력\n"
   ]
  },
  {
   "cell_type": "code",
   "execution_count": 3,
   "metadata": {},
   "outputs": [
    {
     "name": "stdout",
     "output_type": "stream",
     "text": [
      "5\n",
      "3\n"
     ]
    }
   ],
   "source": [
    "def solution(clothes):\n",
    "    answer = 1\n",
    "    cloth_type = {}\n",
    "    \n",
    "    for cloth, type in clothes:\n",
    "        cloth_type[type] = cloth_type.get(type, 0) + 1\n",
    "    \n",
    "    for type in cloth_type:\n",
    "        answer *= (cloth_type[type] + 1)\n",
    "    return answer - 1\n",
    "\n",
    "clothes = [[\"yellow_hat\", \"headgear\"], [\"blue_sunglasses\", \"eyewear\"], [\"green_turban\", \"headgear\"]]\n",
    "print (solution(clothes))\n",
    "clothes = [[\"crow_mask\", \"face\"], [\"blue_sunglasses\", \"face\"], [\"smoky_makeup\", \"face\"]]\n",
    "print (solution(clothes))\n"
   ]
  },
  {
   "cell_type": "code",
   "execution_count": 4,
   "metadata": {},
   "outputs": [
    {
     "name": "stdout",
     "output_type": "stream",
     "text": [
      "5\n",
      "3\n"
     ]
    }
   ],
   "source": [
    "def new_solution(clothes):\n",
    "    from collections import Counter\n",
    "    from functools import reduce\n",
    "    cnt = Counter([kind for name, kind in clothes])\n",
    "    answer = reduce(lambda x, y: x*(y+1), cnt.values(), 1) - 1\n",
    "    return answer\n",
    "\n",
    "clothes = [[\"yellow_hat\", \"headgear\"], [\"blue_sunglasses\", \"eyewear\"], [\"green_turban\", \"headgear\"]]\n",
    "print (new_solution(clothes))\n",
    "clothes = [[\"crow_mask\", \"face\"], [\"blue_sunglasses\", \"face\"], [\"smoky_makeup\", \"face\"]]\n",
    "print (new_solution(clothes))"
   ]
  }
 ],
 "metadata": {
  "kernelspec": {
   "display_name": "Python 3",
   "language": "python",
   "name": "python3"
  },
  "language_info": {
   "codemirror_mode": {
    "name": "ipython",
    "version": 3
   },
   "file_extension": ".py",
   "mimetype": "text/x-python",
   "name": "python",
   "nbconvert_exporter": "python",
   "pygments_lexer": "ipython3",
   "version": "3.10.12"
  }
 },
 "nbformat": 4,
 "nbformat_minor": 2
}
