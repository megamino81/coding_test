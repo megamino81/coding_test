{
 "cells": [
  {
   "cell_type": "markdown",
   "metadata": {},
   "source": [
    "# 피보나치 수\n",
    "\n",
    "https://school.programmers.co.kr/learn/courses/30/lessons/12945?language=python3\n",
    "\n",
    "\n",
    "## 문제 설명\n",
    "피보나치 수는 F(0) = 0, F(1) = 1일 때,  \n",
    "1 이상의 n에 대하여 F(n) = F(n-1) + F(n-2) 가 적용되는 수 입니다.\n",
    "\n",
    "예를들어\n",
    "\n",
    "```\n",
    "F(2) = F(0) + F(1) = 0 + 1 = 1\n",
    "F(3) = F(1) + F(2) = 1 + 1 = 2\n",
    "F(4) = F(2) + F(3) = 1 + 2 = 3\n",
    "F(5) = F(3) + F(4) = 2 + 3 = 5\n",
    "```\n",
    "와 같이 이어집니다.\n",
    "\n",
    "2 이상의 n이 입력되었을 때, n번째 피보나치 수를 1234567으로 나눈 나머지를 리턴하는 함수, solution을 완성해 주세요.\n",
    "\n",
    "## 제한 사항\n",
    "n은 2 이상 100,000 이하인 자연수입니다.\n",
    "\n",
    "### 입출력 예\n",
    "```\n",
    "n\treturn\n",
    "3\t2\n",
    "5\t5\n",
    "```\n",
    "\n",
    "### 입출력 예 설명\n",
    "피보나치수는 0번째부터 0, 1, 1, 2, 3, 5, ... 와 같이 이어집니다."
   ]
  },
  {
   "cell_type": "markdown",
   "metadata": {},
   "source": [
    "### 풀이\n",
    "1. 크기가 n인 배열 생성\n",
    "2. n에 대한 피보나치수를 구하며 메모\n",
    "2. 1234567로 나눈 나머지"
   ]
  },
  {
   "cell_type": "code",
   "execution_count": 11,
   "metadata": {},
   "outputs": [
    {
     "name": "stdout",
     "output_type": "stream",
     "text": [
      "2\n",
      "5\n"
     ]
    }
   ],
   "source": [
    "def fibonacci(n, result):\n",
    "    if n == 0: return 0\n",
    "    elif n == 1: return 1\n",
    "    elif n == 2: return 1\n",
    "    \n",
    "    if result[n] == 0:\n",
    "        result[n] = fibonacci(n - 1, result) + fibonacci(n - 2, result)    \n",
    "    return result[n]\n",
    "\n",
    "def solution(n):\n",
    "    result = [0] * (n+1)\n",
    "    answer = fibonacci(n, result) % 1234567\n",
    "    return answer\n",
    "\n",
    "print (solution(3))\n",
    "print (solution(5))"
   ]
  },
  {
   "cell_type": "code",
   "execution_count": 12,
   "metadata": {},
   "outputs": [
    {
     "name": "stdout",
     "output_type": "stream",
     "text": [
      "2\n",
      "5\n"
     ]
    }
   ],
   "source": [
    "def solution1(n):\n",
    "    a, b = 0, 1\n",
    "    for i in range(n):\n",
    "        a, b = b, a + b\n",
    "    return a % 1234567\n",
    "    \n",
    "\n",
    "print (solution1(3))\n",
    "print (solution1(5))"
   ]
  }
 ],
 "metadata": {
  "kernelspec": {
   "display_name": "Python 3",
   "language": "python",
   "name": "python3"
  },
  "language_info": {
   "codemirror_mode": {
    "name": "ipython",
    "version": 3
   },
   "file_extension": ".py",
   "mimetype": "text/x-python",
   "name": "python",
   "nbconvert_exporter": "python",
   "pygments_lexer": "ipython3",
   "version": "3.10.12"
  }
 },
 "nbformat": 4,
 "nbformat_minor": 2
}
