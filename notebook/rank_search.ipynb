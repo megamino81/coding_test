{
 "cells": [
  {
   "cell_type": "markdown",
   "metadata": {},
   "source": [
    "# 순위 검색\n",
    "\n",
    "https://school.programmers.co.kr/learn/courses/30/lessons/72412?language=python3\n"
   ]
  },
  {
   "cell_type": "markdown",
   "metadata": {},
   "source": [
    "# 풀이\n",
    "1. 지원자 정보 정리\n",
    "2. query 정리\n",
    "3. 하나씩 비교"
   ]
  },
  {
   "cell_type": "code",
   "execution_count": 13,
   "metadata": {},
   "outputs": [
    {
     "name": "stdout",
     "output_type": "stream",
     "text": [
      "[['java', 'backend', 'junior', 'pizza', '150'], ['python', 'frontend', 'senior', 'chicken', '210'], ['python', 'frontend', 'senior', 'chicken', '150'], ['cpp', 'backend', 'senior', 'pizza', '260'], ['java', 'backend', 'junior', 'chicken', '80'], ['python', 'backend', 'senior', 'chicken', '50']]\n",
      "[['java', 'backend', 'junior', 'pizza', '100'], ['python', 'frontend', 'senior', 'chicken', '200'], ['cpp', '-', 'senior', 'pizza', '250'], ['-', 'backend', 'senior', '-', '150'], ['-', '-', '-', 'chicken', '100'], ['-', '-', '-', '-', '150']]\n",
      "[1, 1, 1, 1, 2, 4]\n"
     ]
    }
   ],
   "source": [
    "def solution(info, query):\n",
    "    answer = [0] * len(query)\n",
    "    \n",
    "    query_list = []\n",
    "    info_list = [i.split() for i in info]\n",
    "    \n",
    "    for s in query:\n",
    "        i = s.split()\n",
    "        i = [a for a in i if a != \"and\"]\n",
    "        query_list.append(i)\n",
    "    print (info_list)\n",
    "    print (query_list)\n",
    "    \n",
    "    for i in range(len(query)):\n",
    "        q = query_list[i]\n",
    "        for info in info_list:\n",
    "            for j in range(5):\n",
    "                if q[j] == \"-\": \n",
    "                    continue\n",
    "                elif j == 4 and int(info[j]) >= int(q[j]):\n",
    "                    # 마지막까지 조건이 일치했다면 점수 만족하는지 확인하고 추가\n",
    "                    answer[i] += 1\n",
    "                elif info[j] != q[j]: \n",
    "                    # 다른 조건이 있을시 바로 다음 지원자 확인하도록\n",
    "                    break\n",
    "    return answer\n",
    "\n",
    "info = [\"java backend junior pizza 150\",\n",
    "        \"python frontend senior chicken 210\",\n",
    "        \"python frontend senior chicken 150\",\n",
    "        \"cpp backend senior pizza 260\",\n",
    "        \"java backend junior chicken 80\",\n",
    "        \"python backend senior chicken 50\"\n",
    "        ]\n",
    "\n",
    "query = [\"java and backend and junior and pizza 100\",\n",
    "         \"python and frontend and senior and chicken 200\",\n",
    "         \"cpp and - and senior and pizza 250\",\n",
    "         \"- and backend and senior and - 150\",\n",
    "         \"- and - and - and chicken 100\",\n",
    "         \"- and - and - and - 150\"\n",
    "         ]\n",
    "\n",
    "# result = [1,1,1,1,2,4]\n",
    "\n",
    "print (solution(info, query))"
   ]
  },
  {
   "cell_type": "markdown",
   "metadata": {},
   "source": [
    "# 효율 풀이\n",
    "1. dictionary data 만들기\n",
    "2. 반복문을 돌면서 가능한 경우의 수를 기록\n",
    "3. 기록한 data의 성적 데이터를 모두 정렬\n",
    "4. 문의 조건에 따라서 검색하고, 나온 결과의 성적 배열을 이진 탐색하여 몇 명인지 확인\n"
   ]
  },
  {
   "cell_type": "code",
   "execution_count": 19,
   "metadata": {},
   "outputs": [
    {
     "name": "stdout",
     "output_type": "stream",
     "text": [
      "[1, 1, 1, 1, 2, 4]\n"
     ]
    }
   ],
   "source": [
    "from itertools import combinations\n",
    "from collections import defaultdict\n",
    "from bisect import bisect_left\n",
    "\n",
    "def solution(info, query):\n",
    "    answer = []\n",
    "    people = defaultdict(list)\n",
    "    \n",
    "    for i in info:\n",
    "        person = i.split()\n",
    "        score = int(person.pop())\n",
    "        people[''.join(person)].append(score)\n",
    "        \n",
    "        for j in range(4):\n",
    "            candi = list(combinations(person, j))\n",
    "            for c in candi:\n",
    "                people[''.join(c)].append(score)\n",
    "    \n",
    "    for i in people: \n",
    "        people[i].sort()\n",
    "        \n",
    "    for i in query:\n",
    "        key = i.split()\n",
    "        score = int(key.pop())\n",
    "        key = ''.join(key)\n",
    "        key = key.replace('and', '').replace(' ', '').replace('-', '')\n",
    "        count = len(people[key]) - bisect_left(people[key], score)\n",
    "        answer.append(count)\n",
    "  \n",
    "    return answer\n",
    "\n",
    "info = [\"java backend junior pizza 150\",\n",
    "        \"python frontend senior chicken 210\",\n",
    "        \"python frontend senior chicken 150\",\n",
    "        \"cpp backend senior pizza 260\",\n",
    "        \"java backend junior chicken 80\",\n",
    "        \"python backend senior chicken 50\"\n",
    "        ]\n",
    "\n",
    "query = [\"java and backend and junior and pizza 100\",\n",
    "         \"python and frontend and senior and chicken 200\",\n",
    "         \"cpp and - and senior and pizza 250\",\n",
    "         \"- and backend and senior and - 150\",\n",
    "         \"- and - and - and chicken 100\",\n",
    "         \"- and - and - and - 150\"\n",
    "         ]\n",
    "print (solution(info, query))"
   ]
  }
 ],
 "metadata": {
  "kernelspec": {
   "display_name": "Python 3",
   "language": "python",
   "name": "python3"
  },
  "language_info": {
   "codemirror_mode": {
    "name": "ipython",
    "version": 3
   },
   "file_extension": ".py",
   "mimetype": "text/x-python",
   "name": "python",
   "nbconvert_exporter": "python",
   "pygments_lexer": "ipython3",
   "version": "3.11.9"
  }
 },
 "nbformat": 4,
 "nbformat_minor": 2
}
