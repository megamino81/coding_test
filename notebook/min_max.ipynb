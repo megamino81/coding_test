{
 "cells": [
  {
   "cell_type": "markdown",
   "metadata": {},
   "source": [
    "# 최댓값과 최솟값\n",
    "\n",
    "https://school.programmers.co.kr/learn/courses/30/lessons/12939\n",
    "\n",
    "### 문제 설명\n",
    "문자열 s에는 공백으로 구분된 숫자들이 저장되어 있습니다.  \n",
    "str에 나타나는 숫자 중 최소값과 최대값을 찾아 이를 \"(최소값) (최대값)\"형태의 문자열을 반환하는 함수, solution을 완성하세요.  \n",
    "\n",
    "예를들어 s가 \"1 2 3 4\"라면 \"1 4\"를 리턴하고, \"-1 -2 -3 -4\"라면 \"-4 -1\"을 리턴하면 됩니다.\n",
    "\n",
    "### 제한 조건\n",
    "* s에는 둘 이상의 정수가 공백으로 구분되어 있습니다.\n",
    "\n",
    "### 입출력 예\n",
    "```\n",
    "s\treturn\n",
    "\"1 2 3 4\"\t\"1 4\"\n",
    "\"-1 -2 -3 -4\"\t\"-4 -1\"\n",
    "\"-1 -1\"\t\"-1 -1\"\n",
    "```"
   ]
  },
  {
   "cell_type": "code",
   "execution_count": 13,
   "metadata": {},
   "outputs": [
    {
     "name": "stdout",
     "output_type": "stream",
     "text": [
      "1 4\n",
      "-4 -1\n",
      "-1 -1\n"
     ]
    }
   ],
   "source": [
    "def solution(s):\n",
    "    #s = [int(x) for x in s.split(' ')]\n",
    "    s = list(map(int, s.split()))\n",
    "    return '%d %d' % (min(s), max(s))\n",
    "\n",
    "print(solution(\"1 2 3 4\"))\n",
    "print(solution(\"-1 -2 -3 -4\"))\n",
    "print(solution(\"-1 -1\"))\n"
   ]
  }
 ],
 "metadata": {
  "kernelspec": {
   "display_name": "Python 3",
   "language": "python",
   "name": "python3"
  },
  "language_info": {
   "codemirror_mode": {
    "name": "ipython",
    "version": 3
   },
   "file_extension": ".py",
   "mimetype": "text/x-python",
   "name": "python",
   "nbconvert_exporter": "python",
   "pygments_lexer": "ipython3",
   "version": "3.10.12"
  }
 },
 "nbformat": 4,
 "nbformat_minor": 2
}
