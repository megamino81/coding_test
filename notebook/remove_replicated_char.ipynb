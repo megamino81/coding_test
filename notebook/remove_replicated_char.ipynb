{
 "cells": [
  {
   "cell_type": "markdown",
   "metadata": {},
   "source": [
    "# 중복된 문자 제거\n",
    "\n",
    "https://school.programmers.co.kr/learn/courses/30/lessons/120888?language=python3\n",
    "\n",
    "### 문제 설명\n",
    "문자열 my_string이 매개변수로 주어집니다.  \n",
    "my_string에서 중복된 문자를 제거하고 하나의 문자만 남긴 문자열을 return하도록 solution 함수를 완성해주세요.\n",
    "\n",
    "### 제한사항\n",
    "* 1 ≤ my_string ≤ 110\n",
    "* my_string은 대문자, 소문자, 공백으로 구성되어 있습니다.\n",
    "* 대문자와 소문자를 구분합니다.\n",
    "* 공백(\" \")도 하나의 문자로 구분합니다.\n",
    "* 중복된 문자 중 가장 앞에 있는 문자를 남깁니다.\n",
    "\n",
    "### 입출력 예\n",
    "```\n",
    "my_string\tresult\n",
    "\"people\"\t\"peol\"\n",
    "\"We are the world\"\t\"We arthwold\"\n",
    "```\n",
    "\n",
    "### 입출력 예 설명\n",
    "```\n",
    "입출력 예 #1\n",
    "\"people\"에서 중복된 문자 \"p\"와 \"e\"을 제거한 \"peol\"을 return합니다.\n",
    "\n",
    "입출력 예 #2\n",
    "\"We are the world\"에서 중복된 문자 \"e\", \" \", \"r\" 들을 제거한 \"We arthwold\"을 return합니다.\n",
    "```"
   ]
  },
  {
   "cell_type": "code",
   "execution_count": 6,
   "metadata": {},
   "outputs": [
    {
     "name": "stdout",
     "output_type": "stream",
     "text": [
      "peol\n",
      "We arthwoldp\n",
      "peol\n",
      "We arthwoldp\n"
     ]
    }
   ],
   "source": [
    "def solution(s):\n",
    "    new_str = []\n",
    "    for c in s:\n",
    "        if c not in new_str:\n",
    "            new_str.append(c)\n",
    "    return ''.join(new_str)\n",
    "\n",
    "def solution2(s):\n",
    "    new_str = \"\"\n",
    "    for c in s:\n",
    "        if c not in new_str:\n",
    "            new_str += c\n",
    "    return new_str\n",
    "\n",
    "    \n",
    "print (solution(\"people\"))\n",
    "print (solution(\"We are the worldple\"))\n",
    "\n",
    "print (solution2(\"people\"))\n",
    "print (solution2(\"We are the worldple\"))"
   ]
  }
 ],
 "metadata": {
  "kernelspec": {
   "display_name": "Python 3",
   "language": "python",
   "name": "python3"
  },
  "language_info": {
   "codemirror_mode": {
    "name": "ipython",
    "version": 3
   },
   "file_extension": ".py",
   "mimetype": "text/x-python",
   "name": "python",
   "nbconvert_exporter": "python",
   "pygments_lexer": "ipython3",
   "version": "3.10.12"
  }
 },
 "nbformat": 4,
 "nbformat_minor": 2
}
