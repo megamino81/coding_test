{
 "cells": [
  {
   "cell_type": "markdown",
   "metadata": {},
   "source": [
    "문제 설명\n",
    "한자리 숫자가 적힌 종이 조각이 흩어져있습니다. 흩어진 종이 조각을 붙여 소수를 몇 개 만들 수 있는지 알아내려 합니다.\n",
    "\n",
    "각 종이 조각에 적힌 숫자가 적힌 문자열 numbers가 주어졌을 때, 종이 조각으로 만들 수 있는 소수가 몇 개인지 return 하도록 solution 함수를 완성해주세요.\n",
    "\n",
    "제한사항\n",
    "numbers는 길이 1 이상 7 이하인 문자열입니다.\n",
    "numbers는 0~9까지 숫자만으로 이루어져 있습니다.\n",
    "\"013\"은 0, 1, 3 숫자가 적힌 종이 조각이 흩어져있다는 의미입니다.\n",
    "입출력 예\n",
    "numbers\treturn\n",
    "\"17\"\t3\n",
    "\"011\"\t2\n",
    "입출력 예 설명\n",
    "예제 #1\n",
    "[1, 7]으로는 소수 [7, 17, 71]를 만들 수 있습니다.\n",
    "\n",
    "예제 #2\n",
    "[0, 1, 1]으로는 소수 [11, 101]를 만들 수 있습니다.\n",
    "\n",
    "11과 011은 같은 숫자로 취급합니다.\n"
   ]
  },
  {
   "cell_type": "markdown",
   "metadata": {},
   "source": [
    "풀이\n",
    "1. prime 판단 함수 작성\n",
    "2. 입력된 문자열을 숫자 리스트로 변경\n",
    "3. 해당 숫자리스트에서 모든 조합 찾기\n",
    "4. 모든 수를 돌면서 prime인지 판단\n",
    "5. 정렬\n"
   ]
  },
  {
   "cell_type": "code",
   "execution_count": 12,
   "metadata": {},
   "outputs": [
    {
     "name": "stdout",
     "output_type": "stream",
     "text": [
      "3\n"
     ]
    }
   ],
   "source": [
    "\n",
    "import math\n",
    "from itertools import permutations\n",
    "\n",
    "def is_prime_number(x):\n",
    "    if x <= 1:\n",
    "        return False\n",
    "    for i in range(2, int(math.sqrt(x)) + 1):\n",
    "        if x % i == 0:\n",
    "            return False\n",
    "    return True\n",
    "\n",
    "def solution(numbers):\n",
    "    answer = 0\n",
    "    n = list(numbers)\n",
    "\n",
    "    a = []\n",
    "    for i in range(1, len(n)+1):\n",
    "        a += list(permutations(n, i))   #경우의 수 반환\n",
    "        #print(list(permutations(n, i)))\n",
    "        #print ('')\n",
    "    \n",
    "    b = []\n",
    "    for i in a:\n",
    "        b.append(int(''.join(i)))   \n",
    "    b = list(set(b))    #경우의 수를 int형으로 담은 배열 b 선언, set를 이용해 중복제거\n",
    "\n",
    "    for i in b:\n",
    "        if is_prime_number(i):   # 소수면\n",
    "            answer += 1     # answer 증가\n",
    "\n",
    "    return answer\n",
    "\n",
    "print(solution(\"17\"))\n"
   ]
  }
 ],
 "metadata": {
  "kernelspec": {
   "display_name": "Python 3",
   "language": "python",
   "name": "python3"
  },
  "language_info": {
   "codemirror_mode": {
    "name": "ipython",
    "version": 3
   },
   "file_extension": ".py",
   "mimetype": "text/x-python",
   "name": "python",
   "nbconvert_exporter": "python",
   "pygments_lexer": "ipython3",
   "version": "3.11.9"
  }
 },
 "nbformat": 4,
 "nbformat_minor": 2
}
