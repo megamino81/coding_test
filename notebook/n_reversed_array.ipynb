{
 "cells": [
  {
   "cell_type": "markdown",
   "metadata": {},
   "source": [
    "# 자연수 뒤집어 배열로 만들기\n",
    "\n",
    "https://school.programmers.co.kr/learn/courses/30/lessons/12932?language=python3\n"
   ]
  },
  {
   "cell_type": "markdown",
   "metadata": {},
   "source": [
    "#### 문제 설명\n",
    "자연수 n을 뒤집어 각 자리 숫자를 원소로 가지는 배열 형태로 리턴해주세요. 예를들어 n이 12345이면 [5,4,3,2,1]을 리턴합니다.\n",
    "\n",
    "#### 제한 조건\n",
    "n은 10,000,000,000이하인 자연수입니다.\n",
    "\n",
    "#### 입출력 예\n",
    "```\n",
    "n\treturn\n",
    "12345\t[5,4,3,2,1]\n",
    "```\n"
   ]
  },
  {
   "cell_type": "code",
   "execution_count": 18,
   "metadata": {},
   "outputs": [
    {
     "name": "stdout",
     "output_type": "stream",
     "text": [
      "['1', '2', '3', '4', '5']\n",
      "[5, 4, 3, 2, 1]\n"
     ]
    }
   ],
   "source": [
    "def solution(n):\n",
    "    answer = []\n",
    "    stack = []\n",
    "    s = str(n)\n",
    "    stack = [x for x in s]\n",
    "    print (stack)\n",
    "    while stack:\n",
    "        answer.append(int(stack.pop()))\n",
    "\n",
    "    return answer\n",
    "\n",
    "print(solution(12345))"
   ]
  },
  {
   "cell_type": "code",
   "execution_count": 19,
   "metadata": {},
   "outputs": [
    {
     "name": "stdout",
     "output_type": "stream",
     "text": [
      "[5, 4, 3, 2, 1]\n"
     ]
    }
   ],
   "source": [
    "def digit_reverse(n):\n",
    "    return list(map(int, reversed(str(n))))\n",
    "\n",
    "print(digit_reverse(12345))"
   ]
  },
  {
   "cell_type": "code",
   "execution_count": 31,
   "metadata": {},
   "outputs": [
    {
     "name": "stdout",
     "output_type": "stream",
     "text": [
      "[5, 4, 3, 2, 1]\n"
     ]
    }
   ],
   "source": [
    "def digit_reverse1(n):\n",
    "    return [int(i) for i in str(n)][::-1]\n",
    "print(digit_reverse(12345))\n",
    "\n"
   ]
  },
  {
   "cell_type": "code",
   "execution_count": 38,
   "metadata": {},
   "outputs": [
    {
     "name": "stdout",
     "output_type": "stream",
     "text": [
      "5\n",
      "[1, 2, 3, 4, 5]\n",
      "[1, 3, 5]\n",
      "[1, 2, 3, 4]\n",
      "[5, 4, 3, 2, 1]\n",
      "[]\n"
     ]
    }
   ],
   "source": [
    "a = [1,2,3,4,5]\n",
    "print (a[-1])\n",
    "\n",
    "print(a[::1])\n",
    "print(a[::2])\n",
    "\n",
    "print(a[:-1:1])\n",
    "\n",
    "print(a[::-1])\n",
    "print(a[:-1:-1])"
   ]
  }
 ],
 "metadata": {
  "kernelspec": {
   "display_name": "Python 3",
   "language": "python",
   "name": "python3"
  },
  "language_info": {
   "codemirror_mode": {
    "name": "ipython",
    "version": 3
   },
   "file_extension": ".py",
   "mimetype": "text/x-python",
   "name": "python",
   "nbconvert_exporter": "python",
   "pygments_lexer": "ipython3",
   "version": "3.10.12"
  }
 },
 "nbformat": 4,
 "nbformat_minor": 2
}
